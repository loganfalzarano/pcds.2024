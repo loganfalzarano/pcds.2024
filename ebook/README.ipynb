{
 "cells": [
  {
   "cell_type": "markdown",
   "id": "c26b310f-59f9-4347-bad2-1b4e1e6fe6fe",
   "metadata": {},
   "source": [
    "## Python/Jupyter/Conda/Github (Running the Lectures)\n",
    "\n",
    "(Almost) all lectures will be presented in Jupyter notebooks. Students are encouraged to run the notebooks interactively during the lectures to follow examples. We will often vary code during class to examine the effects of parameters, identify and resolve bugs, etc.\n",
    "\n",
    "The tools we are going to use for lectures:\n",
    "  * python -- interpreted programming language favored by CS-oriented data scientist and ML folks\n",
    "  * conda -- package manager and configuration environment for Python\n",
    "  * jupyter lab -- literate programming environment that mixes code and markdown\n",
    "  * github -- cloud-based repository management for sharing stuff\n",
    "  * and then many others.\n",
    "\n",
    "To get here, I have given you a Docker container.  Follow `environment/instructions`."
   ]
  },
  {
   "cell_type": "code",
   "execution_count": null,
   "id": "70afdd4c-4101-4035-93d8-f917604e9436",
   "metadata": {},
   "outputs": [],
   "source": []
  }
 ],
 "metadata": {
  "kernelspec": {
   "display_name": "Python 3 (ipykernel)",
   "language": "python",
   "name": "python3"
  },
  "language_info": {
   "codemirror_mode": {
    "name": "ipython",
    "version": 3
   },
   "file_extension": ".py",
   "mimetype": "text/x-python",
   "name": "python",
   "nbconvert_exporter": "python",
   "pygments_lexer": "ipython3",
   "version": "3.12.2"
  }
 },
 "nbformat": 4,
 "nbformat_minor": 5
}
