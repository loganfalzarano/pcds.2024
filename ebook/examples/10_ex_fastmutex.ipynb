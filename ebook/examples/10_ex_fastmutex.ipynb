{
 "cells": [
  {
   "cell_type": "markdown",
   "id": "24cc5e78-bc24-4385-bff7-059dea29b5a8",
   "metadata": {},
   "source": [
    "#### Fast Mutual Exclusion\n",
    "\n",
    "Let's first at ChatGPT to implement Lamport's fast mutual exclusion in Java."
   ]
  },
  {
   "cell_type": "code",
   "execution_count": 1,
   "id": "711a3c5b-d994-4b44-abd6-d3a94b4dccf0",
   "metadata": {
    "tags": [],
    "vscode": {
     "languageId": "java"
    }
   },
   "outputs": [
    {
     "name": "stdout",
     "output_type": "stream",
     "text": [
      "Process 2 is trying to enter the critical section.\n",
      "Process 2 has entered the critical section.\n",
      "Process 0 is trying to enter the critical section.\n",
      "Process 4 is trying to enter the critical section.\n",
      "Process 0 has entered the critical section.\n",
      "Process 2 has left the critical section.\n",
      "Process 1 is trying to enter the critical section.\n",
      "Process 3 is trying to enter the critical section.\n",
      "Process 0 has left the critical section.\n",
      "Process 4 has entered the critical section.\n",
      "Process 1 has entered the critical section.\n",
      "Process 4 has left the critical section.\n",
      "Process 1 has left the critical section.\n",
      "Process 3 has entered the critical section.\n",
      "Process 3 has left the critical section.\n",
      "Done\n"
     ]
    }
   ],
   "source": [
    "import java.util.concurrent.atomic.AtomicInteger;\n",
    "\n",
    "class LamportMutex {\n",
    "    private final int numProcesses; // Total number of processes\n",
    "    private AtomicInteger[] tickets; // Array to store ticket values\n",
    "    private AtomicInteger[] entering; // Array to indicate process intentions\n",
    "\n",
    "    public LamportMutex(int numProcesses) {\n",
    "        this.numProcesses = numProcesses;\n",
    "        tickets = new AtomicInteger[numProcesses];\n",
    "        entering = new AtomicInteger[numProcesses];\n",
    "\n",
    "        for (int i = 0; i < numProcesses; i++) {\n",
    "            tickets[i] = new AtomicInteger();\n",
    "            entering[i] = new AtomicInteger();\n",
    "        }\n",
    "    }\n",
    "\n",
    "    public void lock(int processId) {\n",
    "        entering[processId].set(1);\n",
    "        tickets[processId].set(getMaxTicket() + 1);\n",
    "        entering[processId].set(0);\n",
    "\n",
    "        for (int i = 0; i < numProcesses; i++) {\n",
    "            if (i != processId) {\n",
    "                while (entering[i].get() == 1) {\n",
    "                    // Wait until the other process finishes its ticket request\n",
    "                }\n",
    "\n",
    "                while (tickets[i].get() != 0 && (tickets[processId].get() > tickets[i].get() || (tickets[processId].get() == tickets[i].get() && processId > i))) {\n",
    "                    // Wait until it's our turn to enter the critical section\n",
    "                }\n",
    "            }\n",
    "        }\n",
    "    }\n",
    "\n",
    "    public void unlock(int processId) {\n",
    "        tickets[processId].set(0);\n",
    "    }\n",
    "\n",
    "    private int getMaxTicket() {\n",
    "        int maxTicket = Integer.MIN_VALUE;\n",
    "        for (AtomicInteger ticket : tickets) {\n",
    "            int ticketValue = ticket.get();\n",
    "            if (ticketValue > maxTicket) {\n",
    "                maxTicket = ticketValue;\n",
    "            }\n",
    "        }\n",
    "        return maxTicket;\n",
    "    }\n",
    "}\n",
    "\n",
    "\n",
    "int numProcesses = 5;\n",
    "LamportMutex mutex = new LamportMutex(numProcesses);\n",
    "\n",
    "\n",
    "for (int i = 0; i < numProcesses; i++) {\n",
    "    final int processId = i;\n",
    "    try {\n",
    "    new Thread(() -> {\n",
    "        try {\n",
    "            Thread.sleep((long) (Math.random() * 1000));\n",
    "            System.out.println(\"Process \" + processId + \" is trying to enter the critical section.\");\n",
    "            mutex.lock(processId);\n",
    "            System.out.println(\"Process \" + processId + \" has entered the critical section.\");\n",
    "            Thread.sleep((long) (Math.random() * 1000));\n",
    "            mutex.unlock(processId);\n",
    "            System.out.println(\"Process \" + processId + \" has left the critical section.\");\n",
    "        } catch (InterruptedException e) {\n",
    "             e.printStackTrace();\n",
    "        }\n",
    "    }).start();\n",
    "    } catch (Exception e) {\n",
    "        e.printStackTrace();\n",
    "    }\n",
    "}\n",
    "\n",
    "Thread.sleep(20 * 1000);\n",
    "\n",
    "System.out.println(\"Done\");"
   ]
  },
  {
   "cell_type": "markdown",
   "id": "e9d50027-7ca9-4352-aaac-30e05d8fce96",
   "metadata": {
    "tags": []
   },
   "source": [
    "This implements mutual exclusion.  It is actually Lamport's [bakery algorithm](https://en.wikipedia.org/wiki/Lamport%27s_bakery_algorithm_), not fast mutual exclusion.  Watch out for our AI overlords leading us astray!\n",
    "This is a cool algorithm that is:\n",
    "* fair\n",
    "* bounded-wait\n",
    "* requires a linear amount of work in the number of processes.\n",
    "\n",
    "I really don't like this example.  It is not a reasonable/efficient implementation of a mutual exclusion algorithms. Why not?\n",
    "\n",
    "<!-- because it uses AtomicIntegers (already a synchronization construct) to implement a synchronization construct.  So, not good enough.  There are very simple direct algorithms that you can build on compare and swap primitives.\n",
    " This might be a fun in class exercise. -->\n",
    "\n",
    "### Rewrite with volatile registers.\n",
    "\n",
    "This is a skeleton of a Lamport FMEX implementation.  We are going to do a couple of  things differently.\n",
    "  * we are going to use -1 to indicate no contention rather than zero.  This allows us to have a process 0.\n",
    "  * Java doesn't allow arrays of volatile variables.  So, we have to create volatile variables and then build an array of references to them. I'm not positive that this works (BTW). I think it should, but it's a strange usage.\n",
    "  \n",
    "Fill in the TODOs.  I have added the relevant lines of pseudocode for Lamport's fast mutual exclusion algorithm.\n"
   ]
  },
  {
   "cell_type": "code",
   "execution_count": 5,
   "id": "fa7cd5e9-e157-445c-9a83-da1793ddf057",
   "metadata": {
    "tags": [],
    "vscode": {
     "languageId": "java"
    }
   },
   "outputs": [],
   "source": [
    "public class LamportFMEX {\n",
    "    \n",
    "        // only works for 8\n",
    "        private final int numProcesses;\n",
    "        private boolean[] b = new boolean[8];\n",
    "    \n",
    "        // use -1 instead of 0 so we can have process 0\n",
    "        private volatile int x=-1;\n",
    "        private volatile int y=-1;\n",
    "\n",
    "        // we need an array of volatile boolean variables\n",
    "        private volatile boolean b0 = false;\n",
    "        ...\n",
    "        private volatile boolean b7 = false;\n",
    "\n",
    "        public LamportFMEX (int numProcesses) {\n",
    "            this.numProcesses = numProcesses;\n",
    "            b[0] = this.b0;\n",
    "            ...\n",
    "            b[7] = this.b7;\n",
    "        }\n",
    "\n",
    "        public void lock(int processId) {\n",
    "            // b[i] := true;\n",
    "            b[processId] = true;\n",
    "            // x := i\n",
    "            x = processId;\n",
    "            // if y != 0 then b[i] := false;\n",
    "            //   await y = 0;\n",
    "            //   goto start fi;\n",
    "            if (y != 0 ) {\n",
    "                b[processId] = false;\n",
    "                while (y != 0) {\n",
    "                    // wait\n",
    "                }\n",
    "                return; //go to start\n",
    "            }\n",
    "                \n",
    "            // y := i;\n",
    "            y = processId;\n",
    "            //   if x != i then b[i] := false;\n",
    "            //                  for j := 1 to n do await not b[j] od;\n",
    "            //                  if y != i then await y = 0;\n",
    "            //                      goto start fi fi;\n",
    "            if (x != processId) {\n",
    "                b[processId] = false;\n",
    "                for (int j = 0; j < numProcesses; j++) {\n",
    "                    while (b[j]) {\n",
    "                        // wait\n",
    "                    }\n",
    "                }\n",
    "                if (y != processId) {\n",
    "                    while (y != 0) {\n",
    "                        // wait\n",
    "                    }\n",
    "                    return; // go to start\n",
    "                }\n",
    "            }\n",
    "            // critical section\n",
    "            return;\n",
    "        }\n",
    "        public void unlock(int processId) {\n",
    "            // y := 0\n",
    "            y = 0;\n",
    "            // b[i] := False\n",
    "            b[processId] = false;\n",
    "            return;\n",
    "        }\n",
    "}"
   ]
  },
  {
   "cell_type": "code",
   "execution_count": 6,
   "id": "71007f50-b01b-471c-8e33-8124ce4532ba",
   "metadata": {
    "tags": [],
    "vscode": {
     "languageId": "java"
    }
   },
   "outputs": [
    {
     "name": "stdout",
     "output_type": "stream",
     "text": [
      "Process 1 is trying to enter the critical section.\n",
      "Process 0 is trying to enter the critical section.\n",
      "Process 3 is trying to enter the critical section.\n",
      "Process 5 is trying to enter the critical section.\n",
      "Process 6 is trying to enter the critical section.\n",
      "Process 7 is trying to enter the critical section.\n",
      "Process 4 is trying to enter the critical section.\n",
      "Process 2 is trying to enter the critical section.\n"
     ]
    }
   ],
   "source": [
    "LamportFMEX fmex = new LamportFMEX(2);\n",
    "\n",
    "for (int i = 0; i < 8; i++) {\n",
    "    final int processId = i;\n",
    "    try {\n",
    "        new Thread(() -> {\n",
    "            try {\n",
    "                Thread.sleep((long) (Math.random() * 1000));\n",
    "                System.out.println(\"Process \" + processId + \" is trying to enter the critical section.\");\n",
    "                fmex.lock(processId);\n",
    "                System.out.println(\"Process \" + processId + \" has entered the critical section.\");\n",
    "                Thread.sleep((long) (Math.random() * 1000));\n",
    "                fmex.unlock(processId);\n",
    "                System.out.println(\"Process \" + processId + \" has left the critical section.\");\n",
    "            } catch (InterruptedException e) {\n",
    "                e.printStackTrace();\n",
    "            }\n",
    "        }).start();\n",
    "    } catch (Exception e) {\n",
    "        e.printStackTrace();\n",
    "    }\n",
    "}\n",
    "\n",
    "Thread.sleep(20 * 1000);"
   ]
  },
  {
   "cell_type": "markdown",
   "id": "749802ab-c732-46df-8106-13b86e48a1a7",
   "metadata": {},
   "source": [
    "### Debrief\n"
   ]
  },
  {
   "cell_type": "code",
   "execution_count": null,
   "id": "896a9397-41d8-4c13-bbcb-8d6c1eda9553",
   "metadata": {
    "vscode": {
     "languageId": "java"
    }
   },
   "outputs": [],
   "source": []
  }
 ],
 "metadata": {
  "kernelspec": {
   "display_name": "Java",
   "language": "java",
   "name": "java"
  },
  "language_info": {
   "codemirror_mode": "java",
   "file_extension": ".jshell",
   "mimetype": "text/x-java-source",
   "name": "Java",
   "pygments_lexer": "java",
   "version": "11.0.15-internal+0-adhoc..src"
  }
 },
 "nbformat": 4,
 "nbformat_minor": 5
}
