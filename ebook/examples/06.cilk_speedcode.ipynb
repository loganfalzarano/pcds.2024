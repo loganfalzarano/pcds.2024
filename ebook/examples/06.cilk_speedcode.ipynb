{
 "cells": [
  {
   "cell_type": "markdown",
   "id": "6d9838b4-31b8-4d5a-b33e-1fc7b40345e2",
   "metadata": {},
   "source": [
    "### Solutions for Speedcode"
   ]
  },
  {
   "cell_type": "markdown",
   "id": "33bd11a0-0ac5-4b0c-9896-e02acb2aee91",
   "metadata": {},
   "source": [
    "#### Integral\n",
    "\n",
    "```C++\n",
    "void identity(void *view) { *(double *)view = 0.0; }\n",
    "void combine(void *left, void *right) { *(double *)left += *(double *)right; }\n",
    "\n",
    "double integral(const Func& f, size_t n, double low, double high) {\n",
    "  double cilk_reducer(identity, combine) ans;\n",
    "  cilk_for (int i=0; i<n/16; i+=16) {\n",
    "    for (int j=0; j<16; j++)\n",
    "       double x = low + (high-low)*i/n;\n",
    "       double dx = (high-low)/n;\n",
    "       ans += f(x) * dx;\n",
    "  }\n",
    "  return ans;\n",
    "}\n",
    "```"
   ]
  },
  {
   "cell_type": "markdown",
   "id": "9f8e4b68-fd87-48bd-b454-2210ad5851e6",
   "metadata": {},
   "source": [
    "#### Matrix Multiplication\n",
    "\n",
    "```C++\n",
    "cilk_for (int64_t i = 0; i < m; ++i) { \n",
    "    for (int64_t j = 0; j < n; ++j) {\n",
    "      C[i * n + j] = 0;\n",
    "    }\n",
    "    for (int64_t k = 0; k < l; ++k) {\n",
    "      for (int64_t j = 0; j < n; ++j) {\n",
    "        C[i * n + j] += A[i * l + k] * B[k * n + j];\n",
    "      }\n",
    "    }\n",
    "  }\n",
    "```"
   ]
  }
 ],
 "metadata": {
  "kernelspec": {
   "display_name": "Python 3 (ipykernel)",
   "language": "python",
   "name": "python3"
  },
  "language_info": {
   "codemirror_mode": {
    "name": "ipython",
    "version": 3
   },
   "file_extension": ".py",
   "mimetype": "text/x-python",
   "name": "python",
   "nbconvert_exporter": "python",
   "pygments_lexer": "ipython3",
   "version": "3.12.2"
  }
 },
 "nbformat": 4,
 "nbformat_minor": 5
}
