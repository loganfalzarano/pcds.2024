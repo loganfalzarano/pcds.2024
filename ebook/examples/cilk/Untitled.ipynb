{
 "cells": [
  {
   "cell_type": "markdown",
   "id": "20ae1468-d808-4d45-b035-1b79a37c83e1",
   "metadata": {},
   "source": [
    "CILK Integral `cilk_for`"
   ]
  },
  {
   "cell_type": "code",
   "execution_count": null,
   "id": "6b08856b-f22c-4cf2-9f63-1e5fed67d3a0",
   "metadata": {},
   "outputs": [],
   "source": [
    "#include \"solution.hpp\"\n",
    "#include <cilk/cilk.h>\n",
    "\n",
    "void identity(void *view) { *(double *)view = 0.0; }\n",
    "void combine(void *left, void *right) { *(double *)left += *(double *)right; }\n",
    "\n",
    "double integral(const Func& f, size_t n, double low, double high) {\n",
    "  double cilk_reducer(identity, combine) ans;\n",
    "  cilk_for (int i=0; i<n; i++) {\n",
    "    double x = low + (high-low)*i/n;\n",
    "    double dx = (high-low)/n;\n",
    "    ans += f(x) * dx;\n",
    "  }\n",
    "  return ans;\n",
    "}\n"
   ]
  }
 ],
 "metadata": {
  "kernelspec": {
   "display_name": "Python 3 (ipykernel)",
   "language": "python",
   "name": "python3"
  },
  "language_info": {
   "codemirror_mode": {
    "name": "ipython",
    "version": 3
   },
   "file_extension": ".py",
   "mimetype": "text/x-python",
   "name": "python",
   "nbconvert_exporter": "python",
   "pygments_lexer": "ipython3",
   "version": "3.12.2"
  }
 },
 "nbformat": 4,
 "nbformat_minor": 5
}
