{
 "cells": [
  {
   "cell_type": "markdown",
   "id": "d75c8ac9-b947-4dc9-9eb8-3bcd2c9662eb",
   "metadata": {},
   "source": [
    "### Activity 6: Communicating Ray Actors\n",
    "\n",
    "(due due Monday December 9, 2024 4:00 pm)\n",
    "\n",
    "This is a short exercise to demonstrate how actors can communicate through remote oids.\n",
    "We are going to break the actors of the ImageNet classification [Example 24](../../examples/24_ex_ray_actors.ipynb) into \n",
    "two actors: one that transforms the image into an ResNet50 compatible tensor and one that takes\n",
    "the tensor as input and returns the classification. \n",
    "\n",
    "You have been given two class files that have been written to be instantiated as Ray actors:\n",
    "  * [rayresnet50_normalize](./rayresnet50_normalize.py)\n",
    "  * [rayresnet50_classify](./rayresnet50_classify.py)\n",
    "\n",
    "To complete the exercise you need to populate the following driver code.  Then answer the questions.\n",
    "\n",
    "Data is from https://github.com/EliSchwartz/imagenet-sample-images.\n",
    "\n",
    "Note: check your ouput to make sure that the predictions match the input file."
   ]
  },
  {
   "cell_type": "code",
   "execution_count": 2,
   "id": "c805aae1",
   "metadata": {},
   "outputs": [
    {
     "data": {
      "text/plain": [
       "'/home/jupyteruser/ebook/activities/activity6_ray_resnet'"
      ]
     },
     "execution_count": 2,
     "metadata": {},
     "output_type": "execute_result"
    }
   ],
   "source": [
    "import os\n",
    "os.chdir('/home/jupyteruser/ebook/activities/activity6_ray_resnet')\n",
    "os.getcwd()"
   ]
  },
  {
   "cell_type": "code",
   "execution_count": 3,
   "id": "7f39ff1e-03fe-4853-8039-d2dea50c019f",
   "metadata": {
    "tags": []
   },
   "outputs": [
    {
     "name": "stderr",
     "output_type": "stream",
     "text": [
      "2024-12-04 16:01:13,248\tWARNING services.py:2022 -- WARNING: The object store is using /tmp instead of /dev/shm because /dev/shm has only 67108864 bytes available. This will harm performance! You may be able to free up space by deleting files in /dev/shm. If you are inside a Docker container, you can increase /dev/shm size by passing '--shm-size=2.37gb' to 'docker run' (or add it to the run_options list in a Ray cluster config). Make sure to set this to more than 30% of available RAM.\n",
      "2024-12-04 16:01:13,369\tINFO worker.py:1821 -- Started a local Ray instance.\n"
     ]
    },
    {
     "name": "stdout",
     "output_type": "stream",
     "text": [
      "Execution time:  0.0008375644683837891  seconds\n"
     ]
    },
    {
     "name": "stderr",
     "output_type": "stream",
     "text": [
      "*** SIGTERM received at time=1733686931 on cpu 2 ***\n",
      "PC: @     0xffff9c9cbd74  (unknown)  epoll_pwait\n",
      "    @     0xffff75d6fc68        464  absl::lts_20230802::AbslFailureSignalHandler()\n",
      "    @     0xffff9cc157c0  1271781280  (unknown)\n",
      "    @     0xffff9c452858         80  select_epoll_poll\n",
      "    @     0xaaaab9ad25dc        160  _PyEval_EvalFrameDefault\n",
      "    @     0xaaaab9c2eb44        384  PyEval_EvalCode\n",
      "    @     0xaaaab9c2a6b4        160  builtin_exec\n",
      "    @     0xaaaab9b7e48c        128  cfunction_vectorcall_FASTCALL_KEYWORDS\n",
      "    @     0xaaaab9b2df84         64  PyObject_Vectorcall\n",
      "    @     0xaaaab9ad0334         32  _PyEval_EvalFrameDefault\n",
      "    @     0xaaaab9cb0010        384  pymain_run_module\n",
      "    @     0xaaaab9cb09d8         80  Py_RunMain\n",
      "    @     0xaaaab9cb1484        304  Py_BytesMain\n",
      "    @     0xffff9c9084c4        448  (unknown)\n",
      "    @     0xffff9c908598         16  __libc_start_main\n",
      "    @     0xaaaab9ad79bc         96  (unknown)\n",
      "[2024-12-08 19:42:11,917 E 19 19] logging.cc:447: *** SIGTERM received at time=1733686931 on cpu 2 ***\n",
      "[2024-12-08 19:42:11,918 E 19 19] logging.cc:447: PC: @     0xffff9c9cbd74  (unknown)  epoll_pwait\n",
      "[2024-12-08 19:42:11,921 E 19 19] logging.cc:447:     @     0xffff75d6fc90        464  absl::lts_20230802::AbslFailureSignalHandler()\n",
      "[2024-12-08 19:42:11,922 E 19 19] logging.cc:447:     @     0xffff9cc157c0  1271781280  (unknown)\n",
      "[2024-12-08 19:42:11,922 E 19 19] logging.cc:447:     @     0xffff9c452858         80  select_epoll_poll\n",
      "[2024-12-08 19:42:11,922 E 19 19] logging.cc:447:     @     0xaaaab9ad25dc        160  _PyEval_EvalFrameDefault\n",
      "[2024-12-08 19:42:11,922 E 19 19] logging.cc:447:     @     0xaaaab9c2eb44        384  PyEval_EvalCode\n",
      "[2024-12-08 19:42:11,922 E 19 19] logging.cc:447:     @     0xaaaab9c2a6b4        160  builtin_exec\n",
      "[2024-12-08 19:42:11,922 E 19 19] logging.cc:447:     @     0xaaaab9b7e48c        128  cfunction_vectorcall_FASTCALL_KEYWORDS\n",
      "[2024-12-08 19:42:11,922 E 19 19] logging.cc:447:     @     0xaaaab9b2df84         64  PyObject_Vectorcall\n",
      "[2024-12-08 19:42:11,922 E 19 19] logging.cc:447:     @     0xaaaab9ad0334         32  _PyEval_EvalFrameDefault\n",
      "[2024-12-08 19:42:11,922 E 19 19] logging.cc:447:     @     0xaaaab9cb0010        384  pymain_run_module\n",
      "[2024-12-08 19:42:11,922 E 19 19] logging.cc:447:     @     0xaaaab9cb09d8         80  Py_RunMain\n",
      "[2024-12-08 19:42:11,922 E 19 19] logging.cc:447:     @     0xaaaab9cb1484        304  Py_BytesMain\n",
      "[2024-12-08 19:42:11,923 E 19 19] logging.cc:447:     @     0xffff9c9084c4        448  (unknown)\n",
      "[2024-12-08 19:42:11,923 E 19 19] logging.cc:447:     @     0xffff9c908598         16  __libc_start_main\n",
      "[2024-12-08 19:42:11,923 E 19 19] logging.cc:447:     @     0xaaaab9ad79bc         96  (unknown)\n"
     ]
    }
   ],
   "source": [
    "from rayresnet50_normalize import RRN50Normalize\n",
    "from rayresnet50_classify import RRN50Classify\n",
    "import ray\n",
    "import time\n",
    "import os\n",
    "\n",
    "num_actors=4\n",
    "\n",
    "# script to drive parallel program\n",
    "ray.init(num_cpus=num_actors, ignore_reinit_error=True)\n",
    "\n",
    "### TODO instantiate 4 normalization actors\n",
    "\n",
    "### TODO instantiate 4 classification actors\n",
    "\n",
    "\n",
    "directory = '../../data/imagenet1000'\n",
    "files = os.listdir(directory)\n",
    "\n",
    "start_time = time.time()  # Get the current time\n",
    "\n",
    "for i in range(len(files)):\n",
    "    if files[i].endswith(\".JPEG\"):\n",
    "        file_path = os.path.join(directory, files[i])\n",
    "\n",
    "        ### TODO call remote to normalize image into tensor\n",
    "        \n",
    "        ### TODO call remote to classify tensor\n",
    "        \n",
    "        ### TODO store the oids needed to complete the computation\n",
    "        \n",
    "for i in range(len(files)):\n",
    "    try:\n",
    "        if files[i].endswith(\".JPEG\"):\n",
    "            pass\n",
    "            ### TODO collect results for each file in a variable preds\n",
    "            # preds = ray.get(....)\n",
    "            # print(f\"Filename {files[i]}: predictions {preds}\")\n",
    "    except:\n",
    "        pass\n",
    "\n",
    "end_time = time.time()  # Get the current time again\n",
    "\n",
    "execution_time = end_time - start_time\n",
    "print(\"Execution time: \", execution_time, \" seconds\")"
   ]
  },
  {
   "cell_type": "markdown",
   "id": "53f80ddb-2308-4a0f-970b-8121ab1de586",
   "metadata": {},
   "source": [
    "### Questions\n",
    "\n",
    "Please provide short answers (2-3 sentences) to the following questions.  Submit just the written answers (no code) to Gradescope.\n",
    "\n",
    "* Question 1: Does the computation for a single input file (normalization and classification) run in serial or parallel?  If serially, how is the dependency enforced?\n",
    "\n",
    "* Question 2: Does the computation of different files run in serial or parallel?  If parallel, explain why they are independent. \n",
    "\n",
    "* Question 3: This version has about the same runtime as the version in Activity 22 that does normalization and classification in one actor.\n",
    "\n",
    "    * (part a) In what configuration would it be fast to do them together?\n",
    "    * (part b) In what configuration would it be faster to do them separately?\n",
    "\n",
    "(By configuration, I mean data properties or target hardware system on which this would be preferable.) "
   ]
  }
 ],
 "metadata": {
  "kernelspec": {
   "display_name": "Python 3 (ipykernel)",
   "language": "python",
   "name": "python3"
  },
  "language_info": {
   "codemirror_mode": {
    "name": "ipython",
    "version": 3
   },
   "file_extension": ".py",
   "mimetype": "text/x-python",
   "name": "python",
   "nbconvert_exporter": "python",
   "pygments_lexer": "ipython3",
   "version": "3.12.2"
  }
 },
 "nbformat": 4,
 "nbformat_minor": 5
}
