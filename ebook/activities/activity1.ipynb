{
 "cells": [
  {
   "cell_type": "markdown",
   "id": "1a67f85d-6cac-47aa-ab01-3bb1654d7099",
   "metadata": {},
   "source": [
    "###  Activity 1: All Possible Regressions\n",
    "\n",
    "This is a quick assignment.  I would expect it to only take a couple of hours to complete. The start of this notebook develops the example.  You will then parallelize the exammple using `joblib`. \n",
    "\n",
    "Run this on a machine that has at least 4 cores. Typically this is your laptop. The ugrad machines are also OK. Google Colab is not adequate. Fill out the requested cells toward the bottom of the notebook.\n",
    "\n",
    "**Due date**: Wednesday September 11, 2024, 9:00 pm EDT.\n",
    "\n",
    "**Instructions for Submission**: Submit via Gradescope.\n",
    "\n",
    "#### Preparing the Environment\n",
    "\n",
    "You will need a couple of packages installed to make this work.  Stop your instance of jupyter lab and then run\n",
    "\n",
    "```\n",
    "conda install pandas pandoc\n",
    "jupyter lab\n",
    "```\n",
    "At this point, you should be ready to go.\n",
    "\n",
    "#### Example code\n",
    "\n",
    "This is a Python reimplementation of the Section 3.4. in _Matloff_, Parallel Computing for Data Science. It is based on data from https://www.kaggle.com/divan0/multiple-linear-regression. The notebook asks the question what combination of variables best predict the price of a house."
   ]
  },
  {
   "cell_type": "code",
   "execution_count": 2,
   "id": "a9525a93-0b4e-4a25-bf87-d4335132cffc",
   "metadata": {
    "tags": []
   },
   "outputs": [
    {
     "data": {
      "text/html": [
       "<div>\n",
       "<style scoped>\n",
       "    .dataframe tbody tr th:only-of-type {\n",
       "        vertical-align: middle;\n",
       "    }\n",
       "\n",
       "    .dataframe tbody tr th {\n",
       "        vertical-align: top;\n",
       "    }\n",
       "\n",
       "    .dataframe thead th {\n",
       "        text-align: right;\n",
       "    }\n",
       "</style>\n",
       "<table border=\"1\" class=\"dataframe\">\n",
       "  <thead>\n",
       "    <tr style=\"text-align: right;\">\n",
       "      <th></th>\n",
       "      <th>id</th>\n",
       "      <th>date</th>\n",
       "      <th>price</th>\n",
       "      <th>bedrooms</th>\n",
       "      <th>bathrooms</th>\n",
       "      <th>sqft_living</th>\n",
       "      <th>sqft_lot</th>\n",
       "      <th>floors</th>\n",
       "      <th>waterfront</th>\n",
       "      <th>view</th>\n",
       "      <th>...</th>\n",
       "      <th>grade</th>\n",
       "      <th>sqft_above</th>\n",
       "      <th>sqft_basement</th>\n",
       "      <th>yr_built</th>\n",
       "      <th>yr_renovated</th>\n",
       "      <th>zipcode</th>\n",
       "      <th>lat</th>\n",
       "      <th>long</th>\n",
       "      <th>sqft_living15</th>\n",
       "      <th>sqft_lot15</th>\n",
       "    </tr>\n",
       "  </thead>\n",
       "  <tbody>\n",
       "    <tr>\n",
       "      <th>0</th>\n",
       "      <td>7129300520</td>\n",
       "      <td>20141013T000000</td>\n",
       "      <td>221900.0</td>\n",
       "      <td>3</td>\n",
       "      <td>1.00</td>\n",
       "      <td>1180</td>\n",
       "      <td>5650</td>\n",
       "      <td>1.0</td>\n",
       "      <td>0</td>\n",
       "      <td>0</td>\n",
       "      <td>...</td>\n",
       "      <td>7</td>\n",
       "      <td>1180.0</td>\n",
       "      <td>0</td>\n",
       "      <td>1955</td>\n",
       "      <td>0</td>\n",
       "      <td>98178</td>\n",
       "      <td>47.5112</td>\n",
       "      <td>-122.257</td>\n",
       "      <td>1340</td>\n",
       "      <td>5650</td>\n",
       "    </tr>\n",
       "    <tr>\n",
       "      <th>1</th>\n",
       "      <td>6414100192</td>\n",
       "      <td>20141209T000000</td>\n",
       "      <td>538000.0</td>\n",
       "      <td>3</td>\n",
       "      <td>2.25</td>\n",
       "      <td>2570</td>\n",
       "      <td>7242</td>\n",
       "      <td>2.0</td>\n",
       "      <td>0</td>\n",
       "      <td>0</td>\n",
       "      <td>...</td>\n",
       "      <td>7</td>\n",
       "      <td>2170.0</td>\n",
       "      <td>400</td>\n",
       "      <td>1951</td>\n",
       "      <td>1991</td>\n",
       "      <td>98125</td>\n",
       "      <td>47.7210</td>\n",
       "      <td>-122.319</td>\n",
       "      <td>1690</td>\n",
       "      <td>7639</td>\n",
       "    </tr>\n",
       "    <tr>\n",
       "      <th>2</th>\n",
       "      <td>5631500400</td>\n",
       "      <td>20150225T000000</td>\n",
       "      <td>180000.0</td>\n",
       "      <td>2</td>\n",
       "      <td>1.00</td>\n",
       "      <td>770</td>\n",
       "      <td>10000</td>\n",
       "      <td>1.0</td>\n",
       "      <td>0</td>\n",
       "      <td>0</td>\n",
       "      <td>...</td>\n",
       "      <td>6</td>\n",
       "      <td>770.0</td>\n",
       "      <td>0</td>\n",
       "      <td>1933</td>\n",
       "      <td>0</td>\n",
       "      <td>98028</td>\n",
       "      <td>47.7379</td>\n",
       "      <td>-122.233</td>\n",
       "      <td>2720</td>\n",
       "      <td>8062</td>\n",
       "    </tr>\n",
       "    <tr>\n",
       "      <th>3</th>\n",
       "      <td>2487200875</td>\n",
       "      <td>20141209T000000</td>\n",
       "      <td>604000.0</td>\n",
       "      <td>4</td>\n",
       "      <td>3.00</td>\n",
       "      <td>1960</td>\n",
       "      <td>5000</td>\n",
       "      <td>1.0</td>\n",
       "      <td>0</td>\n",
       "      <td>0</td>\n",
       "      <td>...</td>\n",
       "      <td>7</td>\n",
       "      <td>1050.0</td>\n",
       "      <td>910</td>\n",
       "      <td>1965</td>\n",
       "      <td>0</td>\n",
       "      <td>98136</td>\n",
       "      <td>47.5208</td>\n",
       "      <td>-122.393</td>\n",
       "      <td>1360</td>\n",
       "      <td>5000</td>\n",
       "    </tr>\n",
       "    <tr>\n",
       "      <th>4</th>\n",
       "      <td>1954400510</td>\n",
       "      <td>20150218T000000</td>\n",
       "      <td>510000.0</td>\n",
       "      <td>3</td>\n",
       "      <td>2.00</td>\n",
       "      <td>1680</td>\n",
       "      <td>8080</td>\n",
       "      <td>1.0</td>\n",
       "      <td>0</td>\n",
       "      <td>0</td>\n",
       "      <td>...</td>\n",
       "      <td>8</td>\n",
       "      <td>1680.0</td>\n",
       "      <td>0</td>\n",
       "      <td>1987</td>\n",
       "      <td>0</td>\n",
       "      <td>98074</td>\n",
       "      <td>47.6168</td>\n",
       "      <td>-122.045</td>\n",
       "      <td>1800</td>\n",
       "      <td>7503</td>\n",
       "    </tr>\n",
       "  </tbody>\n",
       "</table>\n",
       "<p>5 rows × 21 columns</p>\n",
       "</div>"
      ],
      "text/plain": [
       "           id             date     price  bedrooms  bathrooms  sqft_living  \\\n",
       "0  7129300520  20141013T000000  221900.0         3       1.00         1180   \n",
       "1  6414100192  20141209T000000  538000.0         3       2.25         2570   \n",
       "2  5631500400  20150225T000000  180000.0         2       1.00          770   \n",
       "3  2487200875  20141209T000000  604000.0         4       3.00         1960   \n",
       "4  1954400510  20150218T000000  510000.0         3       2.00         1680   \n",
       "\n",
       "   sqft_lot  floors  waterfront  view  ...  grade  sqft_above  sqft_basement  \\\n",
       "0      5650     1.0           0     0  ...      7      1180.0              0   \n",
       "1      7242     2.0           0     0  ...      7      2170.0            400   \n",
       "2     10000     1.0           0     0  ...      6       770.0              0   \n",
       "3      5000     1.0           0     0  ...      7      1050.0            910   \n",
       "4      8080     1.0           0     0  ...      8      1680.0              0   \n",
       "\n",
       "   yr_built  yr_renovated  zipcode      lat     long  sqft_living15  \\\n",
       "0      1955             0    98178  47.5112 -122.257           1340   \n",
       "1      1951          1991    98125  47.7210 -122.319           1690   \n",
       "2      1933             0    98028  47.7379 -122.233           2720   \n",
       "3      1965             0    98136  47.5208 -122.393           1360   \n",
       "4      1987             0    98074  47.6168 -122.045           1800   \n",
       "\n",
       "   sqft_lot15  \n",
       "0        5650  \n",
       "1        7639  \n",
       "2        8062  \n",
       "3        5000  \n",
       "4        7503  \n",
       "\n",
       "[5 rows x 21 columns]"
      ]
     },
     "execution_count": 2,
     "metadata": {},
     "output_type": "execute_result"
    }
   ],
   "source": [
    "import numpy as np\n",
    "import matplotlib.pyplot as plt\n",
    "import pandas as pd\n",
    "\n",
    "%matplotlib inline\n",
    "\n",
    "#importing dataset using panda\n",
    "dataset = pd.read_csv('ebook/data/kc_house_data.csv') #NOTE: used to be: ../data/kc_house_data.csv\n",
    "#to see what my dataset is comprised of\n",
    "dataset.head()"
   ]
  },
  {
   "cell_type": "code",
   "execution_count": 3,
   "id": "06ad55ee-ba79-4673-b693-ebca04f1bb77",
   "metadata": {
    "tags": []
   },
   "outputs": [],
   "source": [
    "#dropping the id and date column\n",
    "dataset = dataset.drop(['id','date'], axis=1)\n",
    "\n",
    "# clean out NaN and inf values\n",
    "dataset = dataset[~dataset.isin([np.nan, np.inf, -np.inf]).any(axis=1)] #NOTE: had to change to axis = 1"
   ]
  },
  {
   "cell_type": "markdown",
   "id": "f724288c-e17e-46a4-939b-c5ec0fc34a3b",
   "metadata": {},
   "source": [
    "Let's first do a simple regression. How does square footage predict price? "
   ]
  },
  {
   "cell_type": "code",
   "execution_count": 4,
   "id": "cbd8b494-d600-4bc9-9af7-15bef7796fb5",
   "metadata": {
    "tags": []
   },
   "outputs": [
    {
     "name": "stdout",
     "output_type": "stream",
     "text": [
      "coefficient of determination: 0.4928817196006995\n"
     ]
    }
   ],
   "source": [
    "from sklearn.linear_model import LinearRegression\n",
    "\n",
    "X = np.array(dataset.sqft_living)\n",
    "Y = np.array(dataset.price)\n",
    "\n",
    "# shape X into matrix of a single column\n",
    "X = X.reshape((X.shape[0],1))\n",
    "\n",
    "model = LinearRegression()\n",
    "model.fit(X,Y)\n",
    "r_sq = model.score(X,Y)\n",
    "print('coefficient of determination:', r_sq)"
   ]
  },
  {
   "cell_type": "code",
   "execution_count": 5,
   "id": "97519567-fe0a-439e-a7e7-d97e4d56dea7",
   "metadata": {
    "tags": []
   },
   "outputs": [
    {
     "data": {
      "image/png": "[encoded data removed]",
      "text/plain": [
       "<Figure size 640x480 with 1 Axes>"
      ]
     },
     "metadata": {},
     "output_type": "display_data"
    }
   ],
   "source": [
    "%matplotlib inline\n",
    "import matplotlib.pyplot as plt\n",
    "\n",
    "# scatter data\n",
    "plt.plot(X,Y,'o')\n",
    "# best fit line\n",
    "y_pred = model.intercept_ + model.coef_ * X\n",
    "plt.plot(X, y_pred, color='red', linewidth=3)\n",
    "\n",
    "plt.xticks(())\n",
    "plt.yticks(())\n",
    "\n",
    "plt.show()"
   ]
  },
  {
   "cell_type": "markdown",
   "id": "c639cbb5-6bdd-4032-812a-5bf8e0174833",
   "metadata": {},
   "source": [
    "We see that there is a strong correlation between square footage and house price.  The coefficient of determination measures the strength of the correlation and varies between 0 (no correlation) and 1.0 (perfectly correlated)."
   ]
  },
  {
   "cell_type": "markdown",
   "id": "0e2d9af2-3882-4c1d-9f58-038567ffd5ac",
   "metadata": {},
   "source": [
    "### Multiple Linear Regression\n",
    "\n",
    "Adding more variables often improves the score."
   ]
  },
  {
   "cell_type": "code",
   "execution_count": 6,
   "id": "fccb721f-db9f-4c58-ad3b-d7ed629791a2",
   "metadata": {
    "tags": []
   },
   "outputs": [
    {
     "name": "stdout",
     "output_type": "stream",
     "text": [
      "coefficient of determination: 0.5249639858277426\n"
     ]
    }
   ],
   "source": [
    "X = np.array(dataset[['sqft_living','condition','yr_built']])\n",
    "Y = np.array(dataset.price)\n",
    "\n",
    "# shape X into matrix of a single column\n",
    "X = X.reshape((X.shape[0],3))\n",
    "\n",
    "model = LinearRegression()\n",
    "model.fit(X,Y)\n",
    "r_sq = model.score(X,Y)\n",
    "print('coefficient of determination:', r_sq)"
   ]
  },
  {
   "cell_type": "markdown",
   "id": "e900ab88-873c-4290-9d99-723cef811c6d",
   "metadata": {},
   "source": [
    "but some variables are confounding"
   ]
  },
  {
   "cell_type": "code",
   "execution_count": 7,
   "id": "ff60bd53-6ebc-4f13-8c78-5e81992aebd4",
   "metadata": {
    "tags": []
   },
   "outputs": [
    {
     "name": "stdout",
     "output_type": "stream",
     "text": [
      "coefficient of determination: 0.1358874997770878\n"
     ]
    }
   ],
   "source": [
    "X = np.array(dataset[['zipcode','floors','waterfront']])\n",
    "Y = np.array(dataset.price)\n",
    "\n",
    "# shape X into matrix of a single column\n",
    "X = X.reshape((X.shape[0],3))\n",
    "\n",
    "model = LinearRegression()\n",
    "model.fit(X,Y)\n",
    "r_sq = model.score(X,Y)\n",
    "print('coefficient of determination:', r_sq)"
   ]
  },
  {
   "cell_type": "markdown",
   "id": "1d948a45-a861-423a-b2ce-8fcf1bf976c3",
   "metadata": {},
   "source": [
    "This leads to a first parallel program.  What are the right set of variables? A brute force approach called _All Possible Regressions_ examines all combinations. So, let's build a big matrix that and we will regress on subsets.  We will look at all combinations of 1, 2, or 3 variables."
   ]
  },
  {
   "cell_type": "code",
   "execution_count": 8,
   "id": "615005bd-f622-43a0-a844-c32f11e2676d",
   "metadata": {
    "tags": []
   },
   "outputs": [],
   "source": [
    "from itertools import combinations, chain\n",
    "\n",
    "Y = np.array(dataset.price)\n",
    "X = np.array(dataset.drop(['price'], axis=1))\n",
    "\n",
    "## Let's choose all combinations of 1, 2, and 3 columns.\n",
    "col_idxs = np.array(range(X.shape[1]))\n",
    "combos = list(chain(combinations(col_idxs, 1), combinations(col_idxs, 2), combinations(col_idxs, 3)))"
   ]
  },
  {
   "cell_type": "code",
   "execution_count": 9,
   "id": "bc919ff9-24aa-4a9b-a4ee-efc84f8b51d9",
   "metadata": {
    "tags": []
   },
   "outputs": [
    {
     "name": "stdout",
     "output_type": "stream",
     "text": [
      "0.6095149101819037 (2, 6, 14)\n"
     ]
    }
   ],
   "source": [
    "model = LinearRegression()\n",
    "\n",
    "# do in a for loop (dumbest way)\n",
    "r_sq_best = 0.0\n",
    "for combo in combos:\n",
    "    Xp = X[:,combo]\n",
    "    model = model.fit(Xp,Y)\n",
    "    r_sq = model.score(Xp,Y)\n",
    "    if r_sq > r_sq_best:\n",
    "        r_sq_best = r_sq\n",
    "        combo_best = combo\n",
    "    \n",
    "print(r_sq_best, combo_best)"
   ]
  },
  {
   "cell_type": "markdown",
   "id": "603e45b6-80e4-4c6c-9a2f-1e8a728b1e5b",
   "metadata": {},
   "source": [
    "The outcome is kind of crazy. The fields are `sqft-living`, `view`, and `latitude`. Latitude is probably a somewhat accurate proxy for wealth in this area, e.g. N of town richer than south of town. But, this is the kind of outcome that would not translate to other regions, i.e. is likely specific to this data.  _Neat_.\n",
    "\n",
    "Back to performance."
   ]
  },
  {
   "cell_type": "code",
   "execution_count": 10,
   "id": "0e8377d0-63a9-439c-be04-92d19f25e71c",
   "metadata": {
    "tags": []
   },
   "outputs": [
    {
     "name": "stdout",
     "output_type": "stream",
     "text": [
      "894 ms ± 37.3 ms per loop (mean ± std. dev. of 7 runs, 1 loop each)\n"
     ]
    }
   ],
   "source": [
    "%%timeit\n",
    "model = LinearRegression()\n",
    "\n",
    "r_sq_best = 0.0\n",
    "for combo in combos:\n",
    "    Xp = X[:,combo]\n",
    "    model = model.fit(Xp,Y)\n",
    "    r_sq = model.score(Xp,Y)\n",
    "    if r_sq > r_sq_best:\n",
    "        r_sq_best = r_sq\n",
    "        combo_best = combo"
   ]
  },
  {
   "cell_type": "markdown",
   "id": "9f8f2fb1-6df7-4902-9e5a-ed4ccfc231a1",
   "metadata": {},
   "source": [
    "Let's see if flattening the loop matters. Replace for loop with a list comprehension of all combination of variables."
   ]
  },
  {
   "cell_type": "code",
   "execution_count": 11,
   "id": "7993f4bd-6331-42f5-b909-31c6f1b659cf",
   "metadata": {
    "tags": []
   },
   "outputs": [],
   "source": [
    "def r_sq_regression (combo):\n",
    "    Xp = X[:,combo]\n",
    "    model = LinearRegression()\n",
    "    model = model.fit(Xp,Y)\n",
    "    return model.score(Xp,Y)"
   ]
  },
  {
   "cell_type": "code",
   "execution_count": 12,
   "id": "96184a66-012a-4068-a462-677fcafb2ba7",
   "metadata": {
    "tags": []
   },
   "outputs": [
    {
     "name": "stdout",
     "output_type": "stream",
     "text": [
      "[(2, 6, 14) 0.6095149101819037]\n"
     ]
    }
   ],
   "source": [
    "r_sq_list = [ (combo, r_sq_regression(combo)) for combo in combos ]\n",
    "r_sq_arr = np.array(r_sq_list, dtype=object)\n",
    "r_sq_idx = np.argmax(r_sq_arr[:,1])\n",
    "print(r_sq_arr[r_sq_idx])"
   ]
  },
  {
   "cell_type": "code",
   "execution_count": 13,
   "id": "efbf14c0-c47c-4b51-aed3-cde5f1b9af7e",
   "metadata": {
    "tags": []
   },
   "outputs": [
    {
     "name": "stdout",
     "output_type": "stream",
     "text": [
      "905 ms ± 39.5 ms per loop (mean ± std. dev. of 7 runs, 1 loop each)\n"
     ]
    }
   ],
   "source": [
    "%%timeit\n",
    "r_sq_list = [ (combo, r_sq_regression(combo)) for combo in combos ]\n",
    "r_sq_arr = np.array(r_sq_list, dtype=object)\n",
    "r_sq_idx = np.argmax(r_sq_arr[:,1])"
   ]
  },
  {
   "cell_type": "markdown",
   "id": "e3298cb7-ab53-4a34-8442-883faa04a8ab",
   "metadata": {},
   "source": [
    "It didn't seem to help. But, this is a step toward parallelization.\n",
    "\n",
    "### Exercise (This is the assignment)\n",
    "\n",
    "1. Use `joblib.Parallel` and `joblib.delayed` to parallelize the computation of the calls to `r_sq_regression`. \n",
    "    1. In one cell, print the answer to verify that your parallel program is correct.\n",
    "    2. In another cell time the computation. What is the speedup at `n_jobs=4`?\n",
    "    3. Estimate the optimized fraction of the code ($p$) for this computation. Show your work."
   ]
  },
  {
   "cell_type": "code",
   "execution_count": 14,
   "id": "d1194559-1102-4978-bc80-a4911dddf37f",
   "metadata": {},
   "outputs": [
    {
     "name": "stdout",
     "output_type": "stream",
     "text": [
      "(2, 6, 14) 0.6095149101819037\n"
     ]
    }
   ],
   "source": [
    "from joblib import Parallel, delayed\n",
    "\n",
    "# TODO code for 1A\n",
    "\n",
    "# (1) run in parallel \n",
    "output_list = Parallel(n_jobs=4)(delayed(r_sq_regression)(combo) for combo in combos)\n",
    "output_list_array = np.array(output_list, dtype=object)\n",
    "max_index = np.argmax(output_list_array)\n",
    "max_params = combos[max_index]\n",
    "max_value = output_list_array[max_index]\n",
    "print(max_params, max_value)"
   ]
  },
  {
   "cell_type": "code",
   "execution_count": 15,
   "id": "3643a3bb-383c-4da9-aa94-e2f35e9b67ad",
   "metadata": {},
   "outputs": [
    {
     "name": "stdout",
     "output_type": "stream",
     "text": [
      "452 ms ± 7.95 ms per loop (mean ± std. dev. of 7 runs, 1 loop each)\n"
     ]
    }
   ],
   "source": [
    "%%timeit\n",
    "# TODO code for 1B \n",
    "\n",
    "# (2) Time per computation\n",
    "output_list = Parallel(n_jobs=4)(delayed(r_sq_regression)(combo) for combo in combos)\n",
    "output_list_array = np.array(output_list, dtype=object)\n",
    "max_index = np.argmax(output_list_array)\n",
    "max_params = combos[max_index]\n",
    "max_value = output_list_array[max_index]"
   ]
  },
  {
   "cell_type": "markdown",
   "id": "ed98d844-2cb4-4760-928d-bc2511399d9d",
   "metadata": {},
   "source": [
    "$\\textbf{Using Amdahl's Law to calculate the parallelizable fraction \\( p \\):}$\n",
    "\n",
    "Original time = 905 ms, Optimized time = 452 ms, \n",
    "Speedup $S = \\frac{\\text{Original time}}{\\text{Optimized time}} = \\frac{905}{452} \\approx 2.002$\n",
    "\n",
    "Using Amdahl's Law:\n",
    "$$\n",
    "S = \\frac{1}{(1 - p) + \\frac{p}{n}}\n",
    "$$\n",
    "where $n = 4$ (since n_jobs=4).\n",
    "\n",
    "Substitute the value of $S$ and $n$:\n",
    "$$\n",
    "2.002 = \\frac{1}{(1 - p) + \\frac{p}{4}}\n",
    "$$\n",
    "\n",
    "Rearranging to solve for $p$:\n",
    "$$\n",
    "2.002 \\times \\left( (1 - p) + \\frac{p}{4} \\right) = 1\n",
    "$$\n",
    "$$\n",
    "2.002 - 2.002p + 0.5005p = 1\n",
    "$$\n",
    "$$\n",
    "0.5005p - 2.002p = 1 - 2.002\n",
    "$$\n",
    "$$\n",
    "-1.5015p = -1.002\n",
    "$$\n",
    "$$\n",
    "p = \\frac{1.002}{1.5015} \\approx 0.668\n",
    "$$\n",
    "\n",
    "Thus, the parallelizable fraction of the code $p$ is approximately 0.667, or 66.7\\%.\n"
   ]
  },
  {
   "cell_type": "markdown",
   "id": "ec4d94a2-fb3d-4d04-a315-6c913e677fad",
   "metadata": {},
   "source": [
    "2. Use the batch size parameter to vary the number of tasks in each batch from 1,2,...128 @ n_jobs=4. You will need to look at the joblib documentation to read up about batch size.\n",
    "   1. Plot your results (use %timeit -o to capture output)\n",
    "   2. Model the problem as having two performance components: a fixed startup cost per batch ($C_B$) and perfect parallelism.  Estimate the batch startup cost."
   ]
  },
  {
   "cell_type": "code",
   "execution_count": 16,
   "id": "0ebbd6e8-16ae-4a89-bed8-05f10bda3f17",
   "metadata": {},
   "outputs": [
    {
     "name": "stdout",
     "output_type": "stream",
     "text": [
      "778 ms ± 30.4 ms per loop (mean ± std. dev. of 7 runs, 1 loop each)\n",
      "606 ms ± 26.8 ms per loop (mean ± std. dev. of 7 runs, 1 loop each)\n",
      "573 ms ± 33.6 ms per loop (mean ± std. dev. of 7 runs, 1 loop each)\n",
      "528 ms ± 15.1 ms per loop (mean ± std. dev. of 7 runs, 1 loop each)\n",
      "517 ms ± 12.3 ms per loop (mean ± std. dev. of 7 runs, 1 loop each)\n",
      "500 ms ± 8.75 ms per loop (mean ± std. dev. of 7 runs, 1 loop each)\n",
      "506 ms ± 21.2 ms per loop (mean ± std. dev. of 7 runs, 1 loop each)\n",
      "486 ms ± 14.2 ms per loop (mean ± std. dev. of 7 runs, 1 loop each)\n",
      "483 ms ± 15.3 ms per loop (mean ± std. dev. of 7 runs, 1 loop each)\n",
      "469 ms ± 4.3 ms per loop (mean ± std. dev. of 7 runs, 1 loop each)\n",
      "467 ms ± 6.53 ms per loop (mean ± std. dev. of 7 runs, 1 loop each)\n",
      "464 ms ± 9.63 ms per loop (mean ± std. dev. of 7 runs, 1 loop each)\n",
      "474 ms ± 9.03 ms per loop (mean ± std. dev. of 7 runs, 1 loop each)\n",
      "470 ms ± 16.1 ms per loop (mean ± std. dev. of 7 runs, 1 loop each)\n",
      "468 ms ± 21.2 ms per loop (mean ± std. dev. of 7 runs, 1 loop each)\n",
      "457 ms ± 8.91 ms per loop (mean ± std. dev. of 7 runs, 1 loop each)\n",
      "462 ms ± 6.18 ms per loop (mean ± std. dev. of 7 runs, 1 loop each)\n",
      "465 ms ± 8.41 ms per loop (mean ± std. dev. of 7 runs, 1 loop each)\n",
      "477 ms ± 20.1 ms per loop (mean ± std. dev. of 7 runs, 1 loop each)\n",
      "475 ms ± 33.2 ms per loop (mean ± std. dev. of 7 runs, 1 loop each)\n",
      "478 ms ± 23.8 ms per loop (mean ± std. dev. of 7 runs, 1 loop each)\n",
      "466 ms ± 28.4 ms per loop (mean ± std. dev. of 7 runs, 1 loop each)\n",
      "447 ms ± 38.9 ms per loop (mean ± std. dev. of 7 runs, 1 loop each)\n",
      "461 ms ± 15.6 ms per loop (mean ± std. dev. of 7 runs, 1 loop each)\n",
      "467 ms ± 7.53 ms per loop (mean ± std. dev. of 7 runs, 1 loop each)\n",
      "478 ms ± 15.9 ms per loop (mean ± std. dev. of 7 runs, 1 loop each)\n",
      "462 ms ± 15.8 ms per loop (mean ± std. dev. of 7 runs, 1 loop each)\n",
      "476 ms ± 23.8 ms per loop (mean ± std. dev. of 7 runs, 1 loop each)\n",
      "471 ms ± 21.6 ms per loop (mean ± std. dev. of 7 runs, 1 loop each)\n",
      "451 ms ± 10 ms per loop (mean ± std. dev. of 7 runs, 1 loop each)\n",
      "453 ms ± 6.13 ms per loop (mean ± std. dev. of 7 runs, 1 loop each)\n",
      "446 ms ± 5.13 ms per loop (mean ± std. dev. of 7 runs, 1 loop each)\n",
      "458 ms ± 9.54 ms per loop (mean ± std. dev. of 7 runs, 1 loop each)\n",
      "462 ms ± 13.9 ms per loop (mean ± std. dev. of 7 runs, 1 loop each)\n",
      "487 ms ± 17.3 ms per loop (mean ± std. dev. of 7 runs, 1 loop each)\n",
      "485 ms ± 16.5 ms per loop (mean ± std. dev. of 7 runs, 1 loop each)\n",
      "456 ms ± 5.96 ms per loop (mean ± std. dev. of 7 runs, 1 loop each)\n",
      "462 ms ± 5.32 ms per loop (mean ± std. dev. of 7 runs, 1 loop each)\n",
      "460 ms ± 7.73 ms per loop (mean ± std. dev. of 7 runs, 1 loop each)\n",
      "443 ms ± 11.4 ms per loop (mean ± std. dev. of 7 runs, 1 loop each)\n",
      "449 ms ± 4.63 ms per loop (mean ± std. dev. of 7 runs, 1 loop each)\n",
      "447 ms ± 1.71 ms per loop (mean ± std. dev. of 7 runs, 1 loop each)\n",
      "465 ms ± 23.5 ms per loop (mean ± std. dev. of 7 runs, 1 loop each)\n",
      "457 ms ± 22.5 ms per loop (mean ± std. dev. of 7 runs, 1 loop each)\n",
      "461 ms ± 7 ms per loop (mean ± std. dev. of 7 runs, 1 loop each)\n",
      "463 ms ± 19.9 ms per loop (mean ± std. dev. of 7 runs, 1 loop each)\n",
      "449 ms ± 9.87 ms per loop (mean ± std. dev. of 7 runs, 1 loop each)\n",
      "449 ms ± 11.2 ms per loop (mean ± std. dev. of 7 runs, 1 loop each)\n",
      "459 ms ± 11.1 ms per loop (mean ± std. dev. of 7 runs, 1 loop each)\n",
      "451 ms ± 7.68 ms per loop (mean ± std. dev. of 7 runs, 1 loop each)\n",
      "454 ms ± 11.6 ms per loop (mean ± std. dev. of 7 runs, 1 loop each)\n",
      "460 ms ± 20.6 ms per loop (mean ± std. dev. of 7 runs, 1 loop each)\n",
      "459 ms ± 9.51 ms per loop (mean ± std. dev. of 7 runs, 1 loop each)\n",
      "453 ms ± 7.61 ms per loop (mean ± std. dev. of 7 runs, 1 loop each)\n",
      "458 ms ± 7.32 ms per loop (mean ± std. dev. of 7 runs, 1 loop each)\n",
      "461 ms ± 10.4 ms per loop (mean ± std. dev. of 7 runs, 1 loop each)\n",
      "461 ms ± 13 ms per loop (mean ± std. dev. of 7 runs, 1 loop each)\n",
      "453 ms ± 8.39 ms per loop (mean ± std. dev. of 7 runs, 1 loop each)\n",
      "451 ms ± 15.6 ms per loop (mean ± std. dev. of 7 runs, 1 loop each)\n",
      "439 ms ± 9.82 ms per loop (mean ± std. dev. of 7 runs, 1 loop each)\n",
      "438 ms ± 10.8 ms per loop (mean ± std. dev. of 7 runs, 1 loop each)\n",
      "448 ms ± 3.48 ms per loop (mean ± std. dev. of 7 runs, 1 loop each)\n",
      "454 ms ± 17.7 ms per loop (mean ± std. dev. of 7 runs, 1 loop each)\n",
      "436 ms ± 30.5 ms per loop (mean ± std. dev. of 7 runs, 1 loop each)\n",
      "456 ms ± 8.46 ms per loop (mean ± std. dev. of 7 runs, 1 loop each)\n",
      "449 ms ± 3.95 ms per loop (mean ± std. dev. of 7 runs, 1 loop each)\n",
      "453 ms ± 12.7 ms per loop (mean ± std. dev. of 7 runs, 1 loop each)\n",
      "450 ms ± 6.79 ms per loop (mean ± std. dev. of 7 runs, 1 loop each)\n",
      "454 ms ± 9.04 ms per loop (mean ± std. dev. of 7 runs, 1 loop each)\n",
      "447 ms ± 7.19 ms per loop (mean ± std. dev. of 7 runs, 1 loop each)\n",
      "449 ms ± 6.9 ms per loop (mean ± std. dev. of 7 runs, 1 loop each)\n",
      "453 ms ± 12.3 ms per loop (mean ± std. dev. of 7 runs, 1 loop each)\n",
      "449 ms ± 8.16 ms per loop (mean ± std. dev. of 7 runs, 1 loop each)\n",
      "454 ms ± 17.3 ms per loop (mean ± std. dev. of 7 runs, 1 loop each)\n",
      "463 ms ± 16.3 ms per loop (mean ± std. dev. of 7 runs, 1 loop each)\n",
      "450 ms ± 8.61 ms per loop (mean ± std. dev. of 7 runs, 1 loop each)\n",
      "451 ms ± 8.35 ms per loop (mean ± std. dev. of 7 runs, 1 loop each)\n",
      "455 ms ± 7.36 ms per loop (mean ± std. dev. of 7 runs, 1 loop each)\n",
      "451 ms ± 16.1 ms per loop (mean ± std. dev. of 7 runs, 1 loop each)\n",
      "445 ms ± 4.43 ms per loop (mean ± std. dev. of 7 runs, 1 loop each)\n",
      "441 ms ± 8.73 ms per loop (mean ± std. dev. of 7 runs, 1 loop each)\n",
      "451 ms ± 8.87 ms per loop (mean ± std. dev. of 7 runs, 1 loop each)\n",
      "466 ms ± 15.6 ms per loop (mean ± std. dev. of 7 runs, 1 loop each)\n",
      "453 ms ± 9.13 ms per loop (mean ± std. dev. of 7 runs, 1 loop each)\n",
      "454 ms ± 6.69 ms per loop (mean ± std. dev. of 7 runs, 1 loop each)\n",
      "447 ms ± 7.47 ms per loop (mean ± std. dev. of 7 runs, 1 loop each)\n",
      "445 ms ± 8.5 ms per loop (mean ± std. dev. of 7 runs, 1 loop each)\n",
      "453 ms ± 5.26 ms per loop (mean ± std. dev. of 7 runs, 1 loop each)\n",
      "446 ms ± 7.71 ms per loop (mean ± std. dev. of 7 runs, 1 loop each)\n",
      "447 ms ± 9.91 ms per loop (mean ± std. dev. of 7 runs, 1 loop each)\n",
      "446 ms ± 8.27 ms per loop (mean ± std. dev. of 7 runs, 1 loop each)\n",
      "449 ms ± 9.81 ms per loop (mean ± std. dev. of 7 runs, 1 loop each)\n",
      "455 ms ± 6.01 ms per loop (mean ± std. dev. of 7 runs, 1 loop each)\n",
      "465 ms ± 30.5 ms per loop (mean ± std. dev. of 7 runs, 1 loop each)\n",
      "450 ms ± 13.2 ms per loop (mean ± std. dev. of 7 runs, 1 loop each)\n",
      "448 ms ± 4.23 ms per loop (mean ± std. dev. of 7 runs, 1 loop each)\n",
      "458 ms ± 19.3 ms per loop (mean ± std. dev. of 7 runs, 1 loop each)\n",
      "466 ms ± 14.1 ms per loop (mean ± std. dev. of 7 runs, 1 loop each)\n",
      "464 ms ± 7.7 ms per loop (mean ± std. dev. of 7 runs, 1 loop each)\n",
      "456 ms ± 37.6 ms per loop (mean ± std. dev. of 7 runs, 1 loop each)\n",
      "462 ms ± 5.3 ms per loop (mean ± std. dev. of 7 runs, 1 loop each)\n",
      "452 ms ± 9.71 ms per loop (mean ± std. dev. of 7 runs, 1 loop each)\n",
      "460 ms ± 15.1 ms per loop (mean ± std. dev. of 7 runs, 1 loop each)\n",
      "448 ms ± 4.49 ms per loop (mean ± std. dev. of 7 runs, 1 loop each)\n",
      "452 ms ± 10 ms per loop (mean ± std. dev. of 7 runs, 1 loop each)\n",
      "432 ms ± 40.6 ms per loop (mean ± std. dev. of 7 runs, 1 loop each)\n",
      "448 ms ± 6.14 ms per loop (mean ± std. dev. of 7 runs, 1 loop each)\n",
      "454 ms ± 12.7 ms per loop (mean ± std. dev. of 7 runs, 1 loop each)\n",
      "458 ms ± 9.91 ms per loop (mean ± std. dev. of 7 runs, 1 loop each)\n",
      "456 ms ± 10.5 ms per loop (mean ± std. dev. of 7 runs, 1 loop each)\n",
      "455 ms ± 17.9 ms per loop (mean ± std. dev. of 7 runs, 1 loop each)\n",
      "443 ms ± 8.34 ms per loop (mean ± std. dev. of 7 runs, 1 loop each)\n",
      "467 ms ± 21.2 ms per loop (mean ± std. dev. of 7 runs, 1 loop each)\n",
      "456 ms ± 7.33 ms per loop (mean ± std. dev. of 7 runs, 1 loop each)\n",
      "457 ms ± 10.3 ms per loop (mean ± std. dev. of 7 runs, 1 loop each)\n",
      "449 ms ± 4.65 ms per loop (mean ± std. dev. of 7 runs, 1 loop each)\n",
      "442 ms ± 3.91 ms per loop (mean ± std. dev. of 7 runs, 1 loop each)\n",
      "444 ms ± 6.65 ms per loop (mean ± std. dev. of 7 runs, 1 loop each)\n",
      "439 ms ± 10.2 ms per loop (mean ± std. dev. of 7 runs, 1 loop each)\n",
      "429 ms ± 4.51 ms per loop (mean ± std. dev. of 7 runs, 1 loop each)\n",
      "433 ms ± 6.95 ms per loop (mean ± std. dev. of 7 runs, 1 loop each)\n",
      "439 ms ± 9.38 ms per loop (mean ± std. dev. of 7 runs, 1 loop each)\n",
      "427 ms ± 34.8 ms per loop (mean ± std. dev. of 7 runs, 1 loop each)\n",
      "448 ms ± 4.78 ms per loop (mean ± std. dev. of 7 runs, 1 loop each)\n",
      "451 ms ± 12.6 ms per loop (mean ± std. dev. of 7 runs, 1 loop each)\n",
      "452 ms ± 9.59 ms per loop (mean ± std. dev. of 7 runs, 1 loop each)\n",
      "450 ms ± 12.1 ms per loop (mean ± std. dev. of 7 runs, 1 loop each)\n",
      "445 ms ± 4.78 ms per loop (mean ± std. dev. of 7 runs, 1 loop each)\n"
     ]
    }
   ],
   "source": [
    "# code for 2A\n",
    "\n",
    "def run_parallel_work(batch_size):\n",
    "    output_list = Parallel(n_jobs=4, batch_size=batch_size)(delayed(r_sq_regression)(combo) for combo in combos)\n",
    "    #NOTE the code below here in the function is just extracting the max value and the corresponding parameters but I chose to leave it in as part of the work\n",
    "    output_list_array = np.array(output_list, dtype=object)\n",
    "    max_index = np.argmax(output_list_array)\n",
    "    max_params = combos[max_index]\n",
    "    max_value = output_list_array[max_index]\n",
    "    return max_params, max_value\n",
    "\n",
    "time_results_2a = []\n",
    "estimated_startup_costs = []\n",
    "batch_sizes = range(1, 129)\n",
    "\n",
    "for batch_size in batch_sizes:\n",
    "    time_result = %timeit -o run_parallel_work(batch_size)\n",
    "    time_results_2a.append(time_result.average)\n",
    "    "
   ]
  },
  {
   "cell_type": "code",
   "execution_count": 17,
   "id": "f3b5cf1b-4914-4294-8077-844c16e8aabc",
   "metadata": {},
   "outputs": [
    {
     "data": {
      "image/png": "[encoded data removed]",
      "text/plain": [
       "<Figure size 640x480 with 1 Axes>"
      ]
     },
     "metadata": {},
     "output_type": "display_data"
    }
   ],
   "source": [
    "%matplotlib inline\n",
    "\n",
    "# TODO plot for 2A\n",
    "\n",
    "#plot time results vs batch size\n",
    "plt.plot(batch_sizes, time_results_2a)\n",
    "plt.xlabel('Batch Size')\n",
    "plt.ylabel('Average Time')\n",
    "plt.title('Average Time vs Batch Size')\n",
    "plt.show()\n"
   ]
  },
  {
   "cell_type": "code",
   "execution_count": 18,
   "id": "a3b23ce8-19a3-4505-9904-f042ec73745e",
   "metadata": {},
   "outputs": [
    {
     "name": "stdout",
     "output_type": "stream",
     "text": [
      "Time per task: 0.00045358732859486576\n",
      "Startup cost: 0.0003357705841255201\n"
     ]
    }
   ],
   "source": [
    "# code for 2B\n",
    "\n",
    "#estimate the startup costs\n",
    "\n",
    "# For each experiment we know:\n",
    "# total time = number of batches * (time per batch + startup cost per batch) (Equation for total running time)\n",
    "# assuming that the time for completing a task in a batch is the same for all batches we can write:\n",
    "# time per batch = time per task * batch size (Equation for time per batch)\n",
    "# substituting the second equation into the first we get:\n",
    "# total time = number of batches * (time per task * batch size + startup cost per batch)\n",
    "# Distribute the right side:\n",
    "# total time = number of batches * time per task * batch size + number of batches * startup cost per batch\n",
    "# This equation has two unkonwns (1) time per task - one regression and (2) startup cost per batch, we fit a linear regression model to estimate these two unknowns\n",
    "\n",
    "batch_sizes_np = np.array(batch_sizes)\n",
    "number_of_batches_np = np.array([len(combos) / batch_size for batch_size in batch_sizes])\n",
    "#make data matrix with first column as number of batches time batch size second column as number of batches\n",
    "X_data = np.column_stack((number_of_batches_np * batch_sizes_np, number_of_batches_np))\n",
    "\n",
    "y_data = np.array(time_results_2a)\n",
    "\n",
    "#perform linear regression to solve for the coefficients\n",
    "coefficients = np.linalg.lstsq(X_data, y_data, rcond=None)[0]\n",
    "\n",
    "time_per_task = coefficients[0]\n",
    "startup_cost = coefficients[1]\n",
    "\n",
    "print('Time per task:', time_per_task)\n",
    "print('Startup cost:', startup_cost)"
   ]
  },
  {
   "cell_type": "markdown",
   "id": "9d662db6-2c99-45c2-a71b-a4482c454371",
   "metadata": {},
   "source": [
    "**TODO Answer for 2B**"
   ]
  },
  {
   "cell_type": "markdown",
   "id": "57b3cb77-8d34-4eab-bc1a-09fd8266a07f",
   "metadata": {},
   "source": [
    "3. Run the job with `prefer='threads'` and `prefer='processes'`. You do not need to vary batch size for this part. Which is more efficient?  Why? Consider our discussion of parallel threads in python."
   ]
  },
  {
   "cell_type": "code",
   "execution_count": 19,
   "id": "192d3aed-d2c7-45c8-83bd-83462fdc24bb",
   "metadata": {},
   "outputs": [
    {
     "name": "stdout",
     "output_type": "stream",
     "text": [
      "1.01 s ± 41.8 ms per loop (mean ± std. dev. of 7 runs, 1 loop each)\n",
      "Time with threads: 1.010570512144893\n",
      "468 ms ± 13 ms per loop (mean ± std. dev. of 7 runs, 1 loop each)\n",
      "Time with processes: 0.46811780385905877\n"
     ]
    }
   ],
   "source": [
    "# Code for 3\n",
    "\n",
    "#Run with threads\n",
    "time_result_threads = %timeit -o Parallel(n_jobs=4, prefer='threads')(delayed(r_sq_regression)(combo) for combo in combos)\n",
    "print('Time with threads:', time_result_threads.average)\n",
    "\n",
    "#Run with processes\n",
    "time_result_processes = %timeit -o Parallel(n_jobs=4, prefer='processes')(delayed(r_sq_regression)(combo) for combo in combos)\n",
    "print('Time with processes:', time_result_processes.average)"
   ]
  },
  {
   "cell_type": "markdown",
   "id": "3b831431-437f-48e8-b24c-3952a8ab2ebf",
   "metadata": {},
   "source": [
    "**TODO Answer to 3**\n",
    "\n",
    "Global interpreter lock prevents multiple threads from executing simultaneously. This is not the case with processes. Therefore, processes are more efficient than threads since they can run in parallel and do work concurrently."
   ]
  },
  {
   "cell_type": "code",
   "execution_count": null,
   "id": "49add656",
   "metadata": {},
   "outputs": [],
   "source": []
  }
 ],
 "metadata": {
  "kernelspec": {
   "display_name": "Python 3 (ipykernel)",
   "language": "python",
   "name": "python3"
  },
  "language_info": {
   "codemirror_mode": {
    "name": "ipython",
    "version": 3
   },
   "file_extension": ".py",
   "mimetype": "text/x-python",
   "name": "python",
   "nbconvert_exporter": "python",
   "pygments_lexer": "ipython3",
   "version": "3.12.2"
  }
 },
 "nbformat": 4,
 "nbformat_minor": 5
}
