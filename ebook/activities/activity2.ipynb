{
 "cells": [
  {
   "cell_type": "markdown",
   "id": "1a67f85d-6cac-47aa-ab01-3bb1654d7099",
   "metadata": {},
   "source": [
    "###  Activity 2.0: Loop Ordering and False Sharing\n",
    "\n",
    "This activity reinforces the concept of reduction and the caching principles taught in the lecture on Cilk on Sep. 18. It is recommended that you run this on the CS machines `gradx.cs.jhu.edu` or `ugradx.cs.jhu.edu`.  The results make sense here.  It is OK to run this on any machine that has at least 4 cores.  If you run on a different machine, you may end up with slightly different results. It is OK if your results don't track exactly with the expected findings. On my M1 Apple Silicon laptop the results get confusing.\n",
    "\n",
    "**Due date**: Tuesday October 1st, 2024, 5:00 pm EDT.\n",
    "\n",
    "**Instructions for Submission**: Submit via Gradescope."
   ]
  },
  {
   "cell_type": "markdown",
   "id": "608eb679-a8cd-4e06-8589-d995f8d03329",
   "metadata": {},
   "source": [
    "### The Program\n",
    "\n",
    "This is a nested loop program that counts the number of occurences of a list of tokens in an array of elements. This is a common computing pattern in data analytics. This could be used to count the number of messages sent in a network from a set of sources.\n",
    "\n",
    "There are two serial versions of the program.  These are:\n",
    "  * `countTokensElementsFirst`: loop over the larger `elements` array in the outer loop and the smaller `tokens` array in the inner loop.\n",
    "  * `countTokensTokensFirst`: loop over the smaller `tokens` array in the outer loop and the larger `elements` array in the inner loop.\n",
    "  \n",
    "This is not a 2-d dimensional data structure like our previous examples. It is 2 separate arrays."
   ]
  },
  {
   "cell_type": "markdown",
   "id": "03a54ffa-dd9f-4507-afe7-3617489aeab5",
   "metadata": {},
   "source": [
    "#### Programming\n",
    "\n",
    "\n",
    "Complete the *TODO* instructions in [ebook/activities/tokens_omp/activity2_tokens.cpp](https://github.com/randalburns/pcds.2024/blob/main/ebook/activities/tokens_omp/activity2_tokens.cpp)\n",
    "\n",
    "1. Add `parallel for` directives to functions:\n",
    "   * `omp_countTokensElementsFirst`\n",
    "   * `omp_countTokensTokensFirst`\n",
    "2. Add `parallel for` and `reduction` directive for the array `token_counts` for:\n",
    "    * `omp_countTokensElementsFirst_reduce`\n",
    "    * `omp_countTokensTokensFirst_reduce`\n",
    "  \n",
    "The array reduction clause was added to OpenMP and requires one to specify the length of the array.  A simple example is provided in https://dvalters.github.io/optimisation/code/2016/11/06/OpenMP-array_reduction.html.\n",
    "\n",
    "3. Unroll the loop 8 times in `unroll_omp_countTokensElementsFirst_reduce`. You may assume the the `tokens` array is evenly divisible by 8.\n",
    "\n",
    "On the `gradx.cs.jhu.edu` machine after I added this code, I got the timing results\n",
    "```\n",
    "Tokens First time: 8.07097 seconds\n",
    "Elements First time: 6.93468 seconds\n",
    "OMP Tokens First time: 2.10465 seconds\n",
    "OMP Elements First time: 1.78919 seconds\n",
    "OMP Tokens First Reduce time: 1.99353 seconds\n",
    "OMP Elements First Reduce time.: 1.78073 seconds\n",
    "Unroll OMP Elements First Reduce time.: 0.926184 seconds\n",
    "```\n",
    "building with the command line\n",
    "<!-- ``` -->\n",
    "> g++ -O0 -fopenmp activity2_tokens.cpp\n",
    "<!-- ``` -->\n",
    "Compiling with `-O0` turns off all compiler optimizations to prevent the compiler from making unknown optimizations that would confound our results."
   ]
  },
  {
   "cell_type": "markdown",
   "id": "a878c4b4-a04d-43bf-8371-a5ed15591d5c",
   "metadata": {},
   "source": [
    "#### Questions\n",
    "\n",
    "Provide brief but complete answers to the following questions in the following cell.\n",
    "\n",
    "1. Why is it more efficient to iterate over the `tokens` in the inner loop? \n",
    "(_Hint_: Access to both arrays is sequential. This is a question of memory access patterns, cache capacity and cache misses.)\n",
    "\n",
    "\n",
    "2. Of the functions `omp_countTokensElementsFirst` and `omp_countTokensTokensFirst`:\n",
    "\n",
    "\n",
    "    a. Which function performs <b><i>unsafe sharing</i></b> in the `tokens` array?\n",
    "\n",
    "\n",
    "    b. Which function assigns different elements of the `tokens` array to different threads?\n",
    "\n",
    "    \n",
    "3. For the function that assigns different tokens to different threads, how does <b><i>false sharing</b></i> arise? Be specific about the memory access pattern or include a drawing/schema.\n",
    "4. For the unrolled loop, why is it more efficient? What computations and instructions are avoided?"
   ]
  },
  {
   "cell_type": "markdown",
   "id": "b96e43b5-ba32-47e1-83e0-823b7651cc98",
   "metadata": {},
   "source": [
    "#### Answers\n",
    "\n",
    "<i>Include your answers to Questions 1-4 in this cell</i>"
   ]
  },
  {
   "cell_type": "markdown",
   "id": "29c702c0-326f-40d9-824c-d009fae37e50",
   "metadata": {},
   "source": [
    "#### Code\n",
    "\n",
    "<i>Copy-Paste your code from `activity2_tokens.cpp` to the cell below</i>"
   ]
  },
  {
   "cell_type": "code",
   "execution_count": null,
   "id": "6a097855",
   "metadata": {
    "vscode": {
     "languageId": "plaintext"
    }
   },
   "outputs": [],
   "source": [
    "// C++ Code goes here\n",
    "\n",
    "// TODO"
   ]
  }
 ],
 "metadata": {
  "kernelspec": {
   "display_name": "Python 3 (ipykernel)",
   "language": "python",
   "name": "python3"
  },
  "language_info": {
   "codemirror_mode": {
    "name": "ipython",
    "version": 3
   },
   "file_extension": ".py",
   "mimetype": "text/x-python",
   "name": "python",
   "nbconvert_exporter": "python",
   "pygments_lexer": "ipython3",
   "version": "3.12.2"
  }
 },
 "nbformat": 4,
 "nbformat_minor": 5
}
