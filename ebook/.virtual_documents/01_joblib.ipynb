


import networkx as nx
import matplotlib.pyplot as plt
import numpy as np

%matplotlib inline

G = nx.erdos_renyi_graph(5,0.8, directed=True)
nx.draw_networkx(G, pos=nx.spring_layout(G), with_labels=False, node_size=50)


gmat = nx.to_numpy_matrix(G)
gmat





gmat = nx.to_numpy_matrix(G)

outmat = np.zeros(gmat.shape)

for i in range(gmat.shape[0]):
    for j in range(i+1,gmat.shape[1]):        
        outmat[i,j] = np.dot(np.asarray(gmat[i,:]).reshape(-1), np.asarray(gmat[j,:]).reshape(-1))
outmat





G= nx.erdos_renyi_graph(1000,0.01,directed=True)
nx.draw_networkx(G, pos=nx.spring_layout(G), with_labels=False, node_size=10)
G.number_of_edges()





import numpy as np

gmat = nx.to_numpy_matrix(G)

outmat = np.zeros(gmat.shape)

for i in range(gmat.shape[0]):
    for j in range(i+1,gmat.shape[1]):        
        outmat[i,j] = np.dot(np.asarray(gmat[i,:]).reshape(-1), np.asarray(gmat[j,:]).reshape(-1))
        
np.count_nonzero(outmat)





%%timeit

outmat = np.zeros(gmat.shape)

for i in range(gmat.shape[0]):
    for j in range(i+1,gmat.shape[1]):        
        outmat[i,j] = np.dot(np.asarray(gmat[i,:]).reshape(-1), np.asarray(gmat[j,:]).reshape(-1))





def inner_loop(i):
    partial_out = np.zeros(gmat.shape[1])
    for j in range(i+1,gmat.shape[1]):    
        partial_out[j] = np.dot(np.asarray(gmat[i,:]).reshape(-1), np.asarray(gmat[j,:]).reshape(-1))    
    return partial_out
    
from joblib import Parallel, delayed
partials = Parallel(n_jobs=8)(delayed(inner_loop)(i) for i in range(gmat.shape[0]))

outmat = np.array(partials)
np.count_nonzero(outmat)





%%timeit

partials = Parallel(n_jobs=4)(delayed(inner_loop)(i) for i in range(gmat.shape[0]))











from random import random

def gen_random_01(count):
    for i in range(count):
        random()
        
gen_random_01(10)


%%timeit 

gen_random_01(10000000)


%%timeit 

from threading import Thread

for i in range(4):
  Thread(target=gen_random_01, args=(2500000,)).start()





%%timeit

from multiprocessing import Process

if __name__ == '__main__':
        
    for num in range(4):
        Process(target=gen_random_01, args=(2500000,)).start()






